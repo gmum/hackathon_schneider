{
 "cells": [
  {
   "cell_type": "code",
   "execution_count": 1,
   "metadata": {},
   "outputs": [],
   "source": [
    "from data_processing import load_data_2\n",
    "from datetime import datetime\n",
    "import pandas as pd\n",
    "import json"
   ]
  },
  {
   "cell_type": "code",
   "execution_count": 3,
   "metadata": {},
   "outputs": [],
   "source": [
    "#loading the original dataset\n",
    "df = load_data_2('../data')"
   ]
  },
  {
   "cell_type": "code",
   "execution_count": 4,
   "metadata": {},
   "outputs": [
    {
     "name": "stderr",
     "output_type": "stream",
     "text": [
      "/var/folders/2q/wnf6ttl1343fw9wvfvznftw0_zknrv/T/ipykernel_60646/331212565.py:17: SettingWithCopyWarning: \n",
      "A value is trying to be set on a copy of a slice from a DataFrame.\n",
      "Try using .loc[row_indexer,col_indexer] = value instead\n",
      "\n",
      "See the caveats in the documentation: https://pandas.pydata.org/pandas-docs/stable/user_guide/indexing.html#returning-a-view-versus-a-copy\n",
      "  df3[['Load', 'PsrType', 'quantity']] = df3[['Load', 'PsrType', 'quantity']].fillna(0)\n"
     ]
    }
   ],
   "source": [
    "#mapping AreaID values to their meaning\n",
    "#load the dictionary\n",
    "AreaID_dict = \"../data/AreaID_dict.json\"\n",
    "with open(AreaID_dict, 'r') as file:\n",
    "    AreaID_dict = json.load(file)\n",
    "\n",
    "#mapping the df\n",
    "df2 = df.copy()\n",
    "df2['AreaID'] = df2['AreaID'].map(AreaID_dict)\n",
    "df2['Country'] = df2['AreaID'].str.extract(r'\\((.*?)\\)')\n",
    "# Drop the original 'AreaID' column\n",
    "df2.drop('AreaID', axis=1, inplace=True)\n",
    "#dropping 'UnitName' as it's useless and rearranging the columns\\\n",
    "df3 = df2[['StartTime','EndTime','Country','PsrType','Load','quantity']]\n",
    "\n",
    "#Replace NaN values with 0\n",
    "df3[['Load', 'PsrType', 'quantity']] = df3[['Load', 'PsrType', 'quantity']].fillna(0)\n",
    "\n",
    "#Filtering by green_energy PsrType\n",
    "df3 = df3[df3['PsrType'].isin([\"B01\", \"B09\", \"B10\", \"B11\", \"B12\",\"B13\", \"B15\", \"B16\", \"B18\", \"B19\", 0])]"
   ]
  },
  {
   "cell_type": "code",
   "execution_count": 5,
   "metadata": {},
   "outputs": [],
   "source": [
    "#WORKING ON TIME COLUMNS \n",
    "#in order to do so we will separate Load and quantity into different dataframes (we'll rejoin them later)\n",
    "dfLoad = df3[['StartTime','EndTime','Country','Load']].groupby(['StartTime','EndTime','Country']).sum().reset_index()\n",
    "dfQuantity = df3[['StartTime','EndTime','Country','PsrType','quantity']].groupby(['StartTime','EndTime','Country','PsrType']).sum().reset_index()"
   ]
  },
  {
   "cell_type": "code",
   "execution_count": 6,
   "metadata": {},
   "outputs": [],
   "source": [
    "#ENERGY GENERATION DATAFRAME (dfQuantity)\n",
    "# Pivot the DataFrame\n",
    "dfQuantity = dfQuantity.pivot(index=['StartTime', 'EndTime'], columns=['Country', 'PsrType'], values='quantity')\n",
    "\n",
    "# Flatten the multi-level columns\n",
    "dfQuantity.columns = ['{}_{}'.format(col[0], col[1]) for col in dfQuantity.columns]\n",
    "dfQuantity.drop(columns=dfQuantity.filter(like='_0', axis=1).columns, inplace=True)\n",
    "dfQuantity.reset_index(inplace=True)"
   ]
  },
  {
   "cell_type": "code",
   "execution_count": 7,
   "metadata": {},
   "outputs": [],
   "source": [
    "#ENERGY CONSUMPTION DATAFRAME (dfLoad)\n",
    "dfLoad.rename(columns={'Load':'load'}, inplace=True)\n",
    "dfLoad = dfLoad.pivot(index=['StartTime', 'EndTime'], columns=['Country'], values='load')\n",
    "\n",
    "# Flatten\n",
    "dfLoad.columns = ['{}_{}'.format(col, \"load\") for col in dfLoad.columns]\n",
    "dfLoad.reset_index(inplace=True)"
   ]
  },
  {
   "cell_type": "code",
   "execution_count": 8,
   "metadata": {},
   "outputs": [],
   "source": [
    "#MERGE BOTH DATAFRAMES\n",
    "df4 = pd.merge(dfLoad, dfQuantity, on=['StartTime', 'EndTime'], how='outer')\n",
    "df4 = df4[['StartTime','EndTime'] + sorted([col for col in df4.columns if col not in ['StartTime','EndTime']])]"
   ]
  },
  {
   "cell_type": "code",
   "execution_count": 11,
   "metadata": {},
   "outputs": [],
   "source": [
    "#CLEAN THE DATAFRAME\n",
    "df4.fillna(0, inplace=True)"
   ]
  },
  {
   "cell_type": "code",
   "execution_count": 12,
   "metadata": {},
   "outputs": [
    {
     "name": "stderr",
     "output_type": "stream",
     "text": [
      "/var/folders/2q/wnf6ttl1343fw9wvfvznftw0_zknrv/T/ipykernel_60646/2710564736.py:10: FutureWarning: The default value of numeric_only in DataFrameGroupBy.sum is deprecated. In a future version, numeric_only will default to False. Either specify numeric_only or select only columns which should be valid for the function.\n",
      "  df6 = df5.resample('H').sum().interpolate()\n"
     ]
    }
   ],
   "source": [
    "#POPULATING THE EMPTY CELLS\n",
    "df5 = df4.copy()\n",
    "# Convert to datetime\n",
    "df5[\"StartTime\"] = pd.to_datetime(df5[\"StartTime\"], format=\"%Y-%m-%dT%H:%M%zZ\")\n",
    "df5[\"EndTime\"] = pd.to_datetime(df5[\"EndTime\"], format=\"%Y-%m-%dT%H:%M%zZ\")\n",
    "# Set the index to 'StartTime' or 'EndTime'\n",
    "df5.set_index('StartTime', inplace=True)\n",
    "\n",
    "# Resample to hourly frequency, interpolate, and sum Load values\n",
    "df6 = df5.resample('H').sum().interpolate()"
   ]
  },
  {
   "cell_type": "code",
   "execution_count": 14,
   "metadata": {},
   "outputs": [
    {
     "ename": "ValueError",
     "evalue": "Invalid fill method. Expecting pad (ffill) or backfill (bfill). Got linear",
     "output_type": "error",
     "traceback": [
      "\u001b[0;31m---------------------------------------------------------------------------\u001b[0m",
      "\u001b[0;31mValueError\u001b[0m                                Traceback (most recent call last)",
      "\u001b[1;32m/Users/paul.larripa/hackathon_schneider/src/data_processing_3.ipynb Cell 10\u001b[0m line \u001b[0;36m2\n\u001b[1;32m      <a href='vscode-notebook-cell:/Users/paul.larripa/hackathon_schneider/src/data_processing_3.ipynb#X16sZmlsZQ%3D%3D?line=0'>1</a>\u001b[0m \u001b[39m#df5.set_index('StartTime', inplace=True)\u001b[39;00m\n\u001b[0;32m----> <a href='vscode-notebook-cell:/Users/paul.larripa/hackathon_schneider/src/data_processing_3.ipynb#X16sZmlsZQ%3D%3D?line=1'>2</a>\u001b[0m df6 \u001b[39m=\u001b[39m df5\u001b[39m.\u001b[39;49minterpolate(method\u001b[39m=\u001b[39;49m\u001b[39m'\u001b[39;49m\u001b[39mlinear\u001b[39;49m\u001b[39m'\u001b[39;49m, limit_direction\u001b[39m=\u001b[39;49m\u001b[39m'\u001b[39;49m\u001b[39mboth\u001b[39;49m\u001b[39m'\u001b[39;49m)\n",
      "File \u001b[0;32m~/Library/Python/3.11/lib/python/site-packages/pandas/util/_decorators.py:331\u001b[0m, in \u001b[0;36mdeprecate_nonkeyword_arguments.<locals>.decorate.<locals>.wrapper\u001b[0;34m(*args, **kwargs)\u001b[0m\n\u001b[1;32m    325\u001b[0m \u001b[39mif\u001b[39;00m \u001b[39mlen\u001b[39m(args) \u001b[39m>\u001b[39m num_allow_args:\n\u001b[1;32m    326\u001b[0m     warnings\u001b[39m.\u001b[39mwarn(\n\u001b[1;32m    327\u001b[0m         msg\u001b[39m.\u001b[39mformat(arguments\u001b[39m=\u001b[39m_format_argument_list(allow_args)),\n\u001b[1;32m    328\u001b[0m         \u001b[39mFutureWarning\u001b[39;00m,\n\u001b[1;32m    329\u001b[0m         stacklevel\u001b[39m=\u001b[39mfind_stack_level(),\n\u001b[1;32m    330\u001b[0m     )\n\u001b[0;32m--> 331\u001b[0m \u001b[39mreturn\u001b[39;00m func(\u001b[39m*\u001b[39;49margs, \u001b[39m*\u001b[39;49m\u001b[39m*\u001b[39;49mkwargs)\n",
      "File \u001b[0;32m~/Library/Python/3.11/lib/python/site-packages/pandas/core/frame.py:11855\u001b[0m, in \u001b[0;36mDataFrame.interpolate\u001b[0;34m(self, method, axis, limit, inplace, limit_direction, limit_area, downcast, **kwargs)\u001b[0m\n\u001b[1;32m  11843\u001b[0m \u001b[39m@deprecate_nonkeyword_arguments\u001b[39m(version\u001b[39m=\u001b[39m\u001b[39mNone\u001b[39;00m, allowed_args\u001b[39m=\u001b[39m[\u001b[39m\"\u001b[39m\u001b[39mself\u001b[39m\u001b[39m\"\u001b[39m, \u001b[39m\"\u001b[39m\u001b[39mmethod\u001b[39m\u001b[39m\"\u001b[39m])\n\u001b[1;32m  11844\u001b[0m \u001b[39mdef\u001b[39;00m \u001b[39minterpolate\u001b[39m(\n\u001b[1;32m  11845\u001b[0m     \u001b[39mself\u001b[39m: DataFrame,\n\u001b[0;32m   (...)\u001b[0m\n\u001b[1;32m  11853\u001b[0m     \u001b[39m*\u001b[39m\u001b[39m*\u001b[39mkwargs,\n\u001b[1;32m  11854\u001b[0m ) \u001b[39m-\u001b[39m\u001b[39m>\u001b[39m DataFrame \u001b[39m|\u001b[39m \u001b[39mNone\u001b[39;00m:\n\u001b[0;32m> 11855\u001b[0m     \u001b[39mreturn\u001b[39;00m \u001b[39msuper\u001b[39;49m()\u001b[39m.\u001b[39;49minterpolate(\n\u001b[1;32m  11856\u001b[0m         method,\n\u001b[1;32m  11857\u001b[0m         axis,\n\u001b[1;32m  11858\u001b[0m         limit,\n\u001b[1;32m  11859\u001b[0m         inplace,\n\u001b[1;32m  11860\u001b[0m         limit_direction,\n\u001b[1;32m  11861\u001b[0m         limit_area,\n\u001b[1;32m  11862\u001b[0m         downcast,\n\u001b[1;32m  11863\u001b[0m         \u001b[39m*\u001b[39;49m\u001b[39m*\u001b[39;49mkwargs,\n\u001b[1;32m  11864\u001b[0m     )\n",
      "File \u001b[0;32m~/Library/Python/3.11/lib/python/site-packages/pandas/core/generic.py:7568\u001b[0m, in \u001b[0;36mNDFrame.interpolate\u001b[0;34m(self, method, axis, limit, inplace, limit_direction, limit_area, downcast, **kwargs)\u001b[0m\n\u001b[1;32m   7562\u001b[0m \u001b[39mif\u001b[39;00m isna(index)\u001b[39m.\u001b[39many():\n\u001b[1;32m   7563\u001b[0m     \u001b[39mraise\u001b[39;00m \u001b[39mNotImplementedError\u001b[39;00m(\n\u001b[1;32m   7564\u001b[0m         \u001b[39m\"\u001b[39m\u001b[39mInterpolation with NaNs in the index \u001b[39m\u001b[39m\"\u001b[39m\n\u001b[1;32m   7565\u001b[0m         \u001b[39m\"\u001b[39m\u001b[39mhas not been implemented. Try filling \u001b[39m\u001b[39m\"\u001b[39m\n\u001b[1;32m   7566\u001b[0m         \u001b[39m\"\u001b[39m\u001b[39mthose NaNs before interpolating.\u001b[39m\u001b[39m\"\u001b[39m\n\u001b[1;32m   7567\u001b[0m     )\n\u001b[0;32m-> 7568\u001b[0m new_data \u001b[39m=\u001b[39m obj\u001b[39m.\u001b[39;49m_mgr\u001b[39m.\u001b[39;49minterpolate(\n\u001b[1;32m   7569\u001b[0m     method\u001b[39m=\u001b[39;49mmethod,\n\u001b[1;32m   7570\u001b[0m     axis\u001b[39m=\u001b[39;49maxis,\n\u001b[1;32m   7571\u001b[0m     index\u001b[39m=\u001b[39;49mindex,\n\u001b[1;32m   7572\u001b[0m     limit\u001b[39m=\u001b[39;49mlimit,\n\u001b[1;32m   7573\u001b[0m     limit_direction\u001b[39m=\u001b[39;49mlimit_direction,\n\u001b[1;32m   7574\u001b[0m     limit_area\u001b[39m=\u001b[39;49mlimit_area,\n\u001b[1;32m   7575\u001b[0m     inplace\u001b[39m=\u001b[39;49minplace,\n\u001b[1;32m   7576\u001b[0m     downcast\u001b[39m=\u001b[39;49mdowncast,\n\u001b[1;32m   7577\u001b[0m     \u001b[39m*\u001b[39;49m\u001b[39m*\u001b[39;49mkwargs,\n\u001b[1;32m   7578\u001b[0m )\n\u001b[1;32m   7580\u001b[0m result \u001b[39m=\u001b[39m \u001b[39mself\u001b[39m\u001b[39m.\u001b[39m_constructor(new_data)\n\u001b[1;32m   7581\u001b[0m \u001b[39mif\u001b[39;00m should_transpose:\n",
      "File \u001b[0;32m~/Library/Python/3.11/lib/python/site-packages/pandas/core/internals/managers.py:422\u001b[0m, in \u001b[0;36mBaseBlockManager.interpolate\u001b[0;34m(self, **kwargs)\u001b[0m\n\u001b[1;32m    421\u001b[0m \u001b[39mdef\u001b[39;00m \u001b[39minterpolate\u001b[39m(\u001b[39mself\u001b[39m: T, \u001b[39m*\u001b[39m\u001b[39m*\u001b[39mkwargs) \u001b[39m-\u001b[39m\u001b[39m>\u001b[39m T:\n\u001b[0;32m--> 422\u001b[0m     \u001b[39mreturn\u001b[39;00m \u001b[39mself\u001b[39;49m\u001b[39m.\u001b[39;49mapply(\u001b[39m\"\u001b[39;49m\u001b[39minterpolate\u001b[39;49m\u001b[39m\"\u001b[39;49m, \u001b[39m*\u001b[39;49m\u001b[39m*\u001b[39;49mkwargs)\n",
      "File \u001b[0;32m~/Library/Python/3.11/lib/python/site-packages/pandas/core/internals/managers.py:352\u001b[0m, in \u001b[0;36mBaseBlockManager.apply\u001b[0;34m(self, f, align_keys, ignore_failures, **kwargs)\u001b[0m\n\u001b[1;32m    350\u001b[0m         applied \u001b[39m=\u001b[39m b\u001b[39m.\u001b[39mapply(f, \u001b[39m*\u001b[39m\u001b[39m*\u001b[39mkwargs)\n\u001b[1;32m    351\u001b[0m     \u001b[39melse\u001b[39;00m:\n\u001b[0;32m--> 352\u001b[0m         applied \u001b[39m=\u001b[39m \u001b[39mgetattr\u001b[39;49m(b, f)(\u001b[39m*\u001b[39;49m\u001b[39m*\u001b[39;49mkwargs)\n\u001b[1;32m    353\u001b[0m \u001b[39mexcept\u001b[39;00m (\u001b[39mTypeError\u001b[39;00m, \u001b[39mNotImplementedError\u001b[39;00m):\n\u001b[1;32m    354\u001b[0m     \u001b[39mif\u001b[39;00m \u001b[39mnot\u001b[39;00m ignore_failures:\n",
      "File \u001b[0;32m~/Library/Python/3.11/lib/python/site-packages/pandas/core/internals/blocks.py:1619\u001b[0m, in \u001b[0;36mEABackedBlock.interpolate\u001b[0;34m(self, method, axis, inplace, limit, fill_value, **kwargs)\u001b[0m\n\u001b[1;32m   1617\u001b[0m     new_values \u001b[39m=\u001b[39m values\u001b[39m.\u001b[39mT\u001b[39m.\u001b[39mfillna(value\u001b[39m=\u001b[39mfill_value, method\u001b[39m=\u001b[39mmethod, limit\u001b[39m=\u001b[39mlimit)\u001b[39m.\u001b[39mT\n\u001b[1;32m   1618\u001b[0m \u001b[39melse\u001b[39;00m:\n\u001b[0;32m-> 1619\u001b[0m     new_values \u001b[39m=\u001b[39m values\u001b[39m.\u001b[39;49mfillna(value\u001b[39m=\u001b[39;49mfill_value, method\u001b[39m=\u001b[39;49mmethod, limit\u001b[39m=\u001b[39;49mlimit)\n\u001b[1;32m   1620\u001b[0m \u001b[39mreturn\u001b[39;00m \u001b[39mself\u001b[39m\u001b[39m.\u001b[39mmake_block_same_class(new_values)\n",
      "File \u001b[0;32m~/Library/Python/3.11/lib/python/site-packages/pandas/core/arrays/_mixins.py:317\u001b[0m, in \u001b[0;36mNDArrayBackedExtensionArray.fillna\u001b[0;34m(self, value, method, limit)\u001b[0m\n\u001b[1;32m    313\u001b[0m \u001b[39m@doc\u001b[39m(ExtensionArray\u001b[39m.\u001b[39mfillna)\n\u001b[1;32m    314\u001b[0m \u001b[39mdef\u001b[39;00m \u001b[39mfillna\u001b[39m(\n\u001b[1;32m    315\u001b[0m     \u001b[39mself\u001b[39m: NDArrayBackedExtensionArrayT, value\u001b[39m=\u001b[39m\u001b[39mNone\u001b[39;00m, method\u001b[39m=\u001b[39m\u001b[39mNone\u001b[39;00m, limit\u001b[39m=\u001b[39m\u001b[39mNone\u001b[39;00m\n\u001b[1;32m    316\u001b[0m ) \u001b[39m-\u001b[39m\u001b[39m>\u001b[39m NDArrayBackedExtensionArrayT:\n\u001b[0;32m--> 317\u001b[0m     value, method \u001b[39m=\u001b[39m validate_fillna_kwargs(\n\u001b[1;32m    318\u001b[0m         value, method, validate_scalar_dict_value\u001b[39m=\u001b[39;49m\u001b[39mFalse\u001b[39;49;00m\n\u001b[1;32m    319\u001b[0m     )\n\u001b[1;32m    321\u001b[0m     mask \u001b[39m=\u001b[39m \u001b[39mself\u001b[39m\u001b[39m.\u001b[39misna()\n\u001b[1;32m    322\u001b[0m     \u001b[39m# error: Argument 2 to \"check_value_size\" has incompatible type\u001b[39;00m\n\u001b[1;32m    323\u001b[0m     \u001b[39m# \"ExtensionArray\"; expected \"ndarray\"\u001b[39;00m\n",
      "File \u001b[0;32m~/Library/Python/3.11/lib/python/site-packages/pandas/util/_validators.py:390\u001b[0m, in \u001b[0;36mvalidate_fillna_kwargs\u001b[0;34m(value, method, validate_scalar_dict_value)\u001b[0m\n\u001b[1;32m    388\u001b[0m     \u001b[39mraise\u001b[39;00m \u001b[39mValueError\u001b[39;00m(\u001b[39m\"\u001b[39m\u001b[39mMust specify a fill \u001b[39m\u001b[39m'\u001b[39m\u001b[39mvalue\u001b[39m\u001b[39m'\u001b[39m\u001b[39m or \u001b[39m\u001b[39m'\u001b[39m\u001b[39mmethod\u001b[39m\u001b[39m'\u001b[39m\u001b[39m.\u001b[39m\u001b[39m\"\u001b[39m)\n\u001b[1;32m    389\u001b[0m \u001b[39melif\u001b[39;00m value \u001b[39mis\u001b[39;00m \u001b[39mNone\u001b[39;00m \u001b[39mand\u001b[39;00m method \u001b[39mis\u001b[39;00m \u001b[39mnot\u001b[39;00m \u001b[39mNone\u001b[39;00m:\n\u001b[0;32m--> 390\u001b[0m     method \u001b[39m=\u001b[39m clean_fill_method(method)\n\u001b[1;32m    392\u001b[0m \u001b[39melif\u001b[39;00m value \u001b[39mis\u001b[39;00m \u001b[39mnot\u001b[39;00m \u001b[39mNone\u001b[39;00m \u001b[39mand\u001b[39;00m method \u001b[39mis\u001b[39;00m \u001b[39mNone\u001b[39;00m:\n\u001b[1;32m    393\u001b[0m     \u001b[39mif\u001b[39;00m validate_scalar_dict_value \u001b[39mand\u001b[39;00m \u001b[39misinstance\u001b[39m(value, (\u001b[39mlist\u001b[39m, \u001b[39mtuple\u001b[39m)):\n",
      "File \u001b[0;32m~/Library/Python/3.11/lib/python/site-packages/pandas/core/missing.py:125\u001b[0m, in \u001b[0;36mclean_fill_method\u001b[0;34m(method, allow_nearest)\u001b[0m\n\u001b[1;32m    123\u001b[0m     expecting \u001b[39m=\u001b[39m \u001b[39m\"\u001b[39m\u001b[39mpad (ffill), backfill (bfill) or nearest\u001b[39m\u001b[39m\"\u001b[39m\n\u001b[1;32m    124\u001b[0m \u001b[39mif\u001b[39;00m method \u001b[39mnot\u001b[39;00m \u001b[39min\u001b[39;00m valid_methods:\n\u001b[0;32m--> 125\u001b[0m     \u001b[39mraise\u001b[39;00m \u001b[39mValueError\u001b[39;00m(\u001b[39mf\u001b[39m\u001b[39m\"\u001b[39m\u001b[39mInvalid fill method. Expecting \u001b[39m\u001b[39m{\u001b[39;00mexpecting\u001b[39m}\u001b[39;00m\u001b[39m. Got \u001b[39m\u001b[39m{\u001b[39;00mmethod\u001b[39m}\u001b[39;00m\u001b[39m\"\u001b[39m)\n\u001b[1;32m    126\u001b[0m \u001b[39mreturn\u001b[39;00m method\n",
      "\u001b[0;31mValueError\u001b[0m: Invalid fill method. Expecting pad (ffill) or backfill (bfill). Got linear"
     ]
    }
   ],
   "source": [
    "#df5.set_index('StartTime', inplace=True)\n",
    "df6 = df5.interpolate(method='linear', limit_direction='both')"
   ]
  },
  {
   "cell_type": "code",
   "execution_count": null,
   "metadata": {},
   "outputs": [
    {
     "ename": "KeyError",
     "evalue": "'quantity'",
     "output_type": "error",
     "traceback": [
      "\u001b[0;31m---------------------------------------------------------------------------\u001b[0m",
      "\u001b[0;31mKeyError\u001b[0m                                  Traceback (most recent call last)",
      "File \u001b[0;32m~/Library/Python/3.11/lib/python/site-packages/pandas/core/indexes/base.py:3802\u001b[0m, in \u001b[0;36mIndex.get_loc\u001b[0;34m(self, key, method, tolerance)\u001b[0m\n\u001b[1;32m   3801\u001b[0m \u001b[39mtry\u001b[39;00m:\n\u001b[0;32m-> 3802\u001b[0m     \u001b[39mreturn\u001b[39;00m \u001b[39mself\u001b[39;49m\u001b[39m.\u001b[39;49m_engine\u001b[39m.\u001b[39;49mget_loc(casted_key)\n\u001b[1;32m   3803\u001b[0m \u001b[39mexcept\u001b[39;00m \u001b[39mKeyError\u001b[39;00m \u001b[39mas\u001b[39;00m err:\n",
      "File \u001b[0;32m~/Library/Python/3.11/lib/python/site-packages/pandas/_libs/index.pyx:138\u001b[0m, in \u001b[0;36mpandas._libs.index.IndexEngine.get_loc\u001b[0;34m()\u001b[0m\n",
      "File \u001b[0;32m~/Library/Python/3.11/lib/python/site-packages/pandas/_libs/index.pyx:165\u001b[0m, in \u001b[0;36mpandas._libs.index.IndexEngine.get_loc\u001b[0;34m()\u001b[0m\n",
      "File \u001b[0;32mpandas/_libs/hashtable_class_helper.pxi:5745\u001b[0m, in \u001b[0;36mpandas._libs.hashtable.PyObjectHashTable.get_item\u001b[0;34m()\u001b[0m\n",
      "File \u001b[0;32mpandas/_libs/hashtable_class_helper.pxi:5753\u001b[0m, in \u001b[0;36mpandas._libs.hashtable.PyObjectHashTable.get_item\u001b[0;34m()\u001b[0m\n",
      "\u001b[0;31mKeyError\u001b[0m: 'quantity'",
      "\nThe above exception was the direct cause of the following exception:\n",
      "\u001b[0;31mKeyError\u001b[0m                                  Traceback (most recent call last)",
      "\u001b[1;32m/Users/paul.larripa/hackathon_schneider/src/data_processing_3.ipynb Cell 9\u001b[0m line \u001b[0;36m2\n\u001b[1;32m      <a href='vscode-notebook-cell:/Users/paul.larripa/hackathon_schneider/src/data_processing_3.ipynb#X15sZmlsZQ%3D%3D?line=0'>1</a>\u001b[0m \u001b[39m#CREATING THE SURPLUS COLUMN\u001b[39;00m\n\u001b[0;32m----> <a href='vscode-notebook-cell:/Users/paul.larripa/hackathon_schneider/src/data_processing_3.ipynb#X15sZmlsZQ%3D%3D?line=1'>2</a>\u001b[0m df5[\u001b[39m'\u001b[39m\u001b[39msurplus\u001b[39m\u001b[39m'\u001b[39m] \u001b[39m=\u001b[39m df5[\u001b[39m'\u001b[39;49m\u001b[39mquantity\u001b[39;49m\u001b[39m'\u001b[39;49m] \u001b[39m-\u001b[39m df5[\u001b[39m'\u001b[39m\u001b[39mload\u001b[39m\u001b[39m'\u001b[39m]\n\u001b[1;32m      <a href='vscode-notebook-cell:/Users/paul.larripa/hackathon_schneider/src/data_processing_3.ipynb#X15sZmlsZQ%3D%3D?line=2'>3</a>\u001b[0m df5\u001b[39m.\u001b[39mreset_index(inplace\u001b[39m=\u001b[39m\u001b[39mTrue\u001b[39;00m)\n",
      "File \u001b[0;32m~/Library/Python/3.11/lib/python/site-packages/pandas/core/frame.py:3807\u001b[0m, in \u001b[0;36mDataFrame.__getitem__\u001b[0;34m(self, key)\u001b[0m\n\u001b[1;32m   3805\u001b[0m \u001b[39mif\u001b[39;00m \u001b[39mself\u001b[39m\u001b[39m.\u001b[39mcolumns\u001b[39m.\u001b[39mnlevels \u001b[39m>\u001b[39m \u001b[39m1\u001b[39m:\n\u001b[1;32m   3806\u001b[0m     \u001b[39mreturn\u001b[39;00m \u001b[39mself\u001b[39m\u001b[39m.\u001b[39m_getitem_multilevel(key)\n\u001b[0;32m-> 3807\u001b[0m indexer \u001b[39m=\u001b[39m \u001b[39mself\u001b[39;49m\u001b[39m.\u001b[39;49mcolumns\u001b[39m.\u001b[39;49mget_loc(key)\n\u001b[1;32m   3808\u001b[0m \u001b[39mif\u001b[39;00m is_integer(indexer):\n\u001b[1;32m   3809\u001b[0m     indexer \u001b[39m=\u001b[39m [indexer]\n",
      "File \u001b[0;32m~/Library/Python/3.11/lib/python/site-packages/pandas/core/indexes/base.py:3804\u001b[0m, in \u001b[0;36mIndex.get_loc\u001b[0;34m(self, key, method, tolerance)\u001b[0m\n\u001b[1;32m   3802\u001b[0m     \u001b[39mreturn\u001b[39;00m \u001b[39mself\u001b[39m\u001b[39m.\u001b[39m_engine\u001b[39m.\u001b[39mget_loc(casted_key)\n\u001b[1;32m   3803\u001b[0m \u001b[39mexcept\u001b[39;00m \u001b[39mKeyError\u001b[39;00m \u001b[39mas\u001b[39;00m err:\n\u001b[0;32m-> 3804\u001b[0m     \u001b[39mraise\u001b[39;00m \u001b[39mKeyError\u001b[39;00m(key) \u001b[39mfrom\u001b[39;00m \u001b[39merr\u001b[39;00m\n\u001b[1;32m   3805\u001b[0m \u001b[39mexcept\u001b[39;00m \u001b[39mTypeError\u001b[39;00m:\n\u001b[1;32m   3806\u001b[0m     \u001b[39m# If we have a listlike key, _check_indexing_error will raise\u001b[39;00m\n\u001b[1;32m   3807\u001b[0m     \u001b[39m#  InvalidIndexError. Otherwise we fall through and re-raise\u001b[39;00m\n\u001b[1;32m   3808\u001b[0m     \u001b[39m#  the TypeError.\u001b[39;00m\n\u001b[1;32m   3809\u001b[0m     \u001b[39mself\u001b[39m\u001b[39m.\u001b[39m_check_indexing_error(key)\n",
      "\u001b[0;31mKeyError\u001b[0m: 'quantity'"
     ]
    }
   ],
   "source": [
    "#CREATING THE SURPLUS COLUMN\n",
    "df6['surplus'] = df6['quantity'] - df6['load']\n",
    "df6.reset_index(inplace=True)"
   ]
  }
 ],
 "metadata": {
  "kernelspec": {
   "display_name": "Python 3",
   "language": "python",
   "name": "python3"
  },
  "language_info": {
   "codemirror_mode": {
    "name": "ipython",
    "version": 3
   },
   "file_extension": ".py",
   "mimetype": "text/x-python",
   "name": "python",
   "nbconvert_exporter": "python",
   "pygments_lexer": "ipython3",
   "version": "3.11.1"
  }
 },
 "nbformat": 4,
 "nbformat_minor": 2
}
