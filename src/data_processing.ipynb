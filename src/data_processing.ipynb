{
 "cells": [
  {
   "cell_type": "code",
   "execution_count": 1,
   "metadata": {},
   "outputs": [],
   "source": [
    "from data_processing import load_data\n",
    "from datetime import datetime\n",
    "import pandas as pd\n",
    "\n",
    "df = load_data('../data')\n",
    "\n",
    "#Changing the format of Time columns and grouping Time columns by Hour\n",
    "df[\"StartTime\"] = pd.to_datetime(df[\"StartTime\"], format=\"%Y-%m-%dT%H:%M%zZ\")\n",
    "df[\"EndTime\"] = pd.to_datetime(df[\"EndTime\"], format=\"%Y-%m-%dT%H:%M%zZ\")\n",
    "\n",
    "df[\"StartDayHour\"] = df['StartTime'].dt.strftime('%Y-%m-%d %H')\n",
    "\n",
    "#Replace NaN values with 0\n",
    "df1 = df.copy()\n",
    "df1[['Load', 'PsrType', 'quantity']] = df1[['Load', 'PsrType', 'quantity']].fillna(0)\n",
    "\n",
    "#Filtering by green_energy PsrType\n",
    "df2 = df1[df1['PsrType'].isin([\"B01\", \"B09\", \"B10\", \"B11\", \"B12\",\"B13\", \"B15\", \"B16\", \"B18\", \"B19\", 0])]\n",
    "\n",
    "#dropping useless columns\n",
    "df2 = df2.drop(['StartTime','EndTime','UnitName','PsrType','UnitName'],axis=1)\n",
    "\n",
    "#grouping rest of columns by Hour\n",
    "df3 = df2.groupby(['StartDayHour', 'AreaID']).sum().reset_index()"
   ]
  }
 ],
 "metadata": {
  "kernelspec": {
   "display_name": "Python 3",
   "language": "python",
   "name": "python3"
  },
  "language_info": {
   "codemirror_mode": {
    "name": "ipython",
    "version": 3
   },
   "file_extension": ".py",
   "mimetype": "text/x-python",
   "name": "python",
   "nbconvert_exporter": "python",
   "pygments_lexer": "ipython3",
   "version": "3.11.1"
  }
 },
 "nbformat": 4,
 "nbformat_minor": 2
}
